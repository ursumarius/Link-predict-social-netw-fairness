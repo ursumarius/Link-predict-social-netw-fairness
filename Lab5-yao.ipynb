{
 "cells": [
  {
   "cell_type": "markdown",
   "metadata": {},
   "source": [
    "<h1><center> Lab 5: Data Science, Algorithmic Fairness and Networks </center></h1>\n",
    "\n",
    "This week (Week 5) we are learning about ethical aspects of data science and about conceptual tools to think through ethical questions in this field. Several examples of bias and algorithmic discrimination in data science and Artificial Intelligence are discussed (e.g., discrimination in Amazon Prime and COMPAS). Several metrics of fairness are also discussed (e.g., Demographic Parity and Equalised Odds).\n",
    "\n",
    "In this Lab, we will learn how to deal with bias and discrimination in practice. We will exercise how to apply new (Python) libraries to identify and mitigate bias in machine learning classification. This is an area known as Algorithmic Fairness.\n",
    "\n",
    "We suggest that you watch, before this Lab, the 7-min [video](https://canvas.uva.nl/courses/45979/pages/lab-5-preparation-video-fairness-metrics?module_item_id=2187867) we added in *Canvas > Modules > Week 5: Lab 5 preparation - Video fairness metrics*, so that you have an overview of fairness metrics used in the field.\n",
    "\n",
    "This notebook will also be an opportunity to exercise the contents of the previous weeks (Week 3) on **Decision Trees** and **Model Validation**, both to be evaluated in Quiz 3 — and useful in Assignment 2.\n",
    "\n",
    "We will use [Fairlearn](https://fairlearn.org), an open-source, community-driven project to help data scientists improve fairness of AI systems. **If you do not have fairlearn installed, you can uncomment and use the line below.**"
   ]
  },
  {
   "cell_type": "code",
   "execution_count": 1,
   "metadata": {},
   "outputs": [
    {
     "name": "stdout",
     "output_type": "stream",
     "text": [
      "Requirement already satisfied: fairlearn in /opt/anaconda3/lib/python3.12/site-packages (0.10.0)\n",
      "Requirement already satisfied: numpy>=1.24.4 in /opt/anaconda3/lib/python3.12/site-packages (from fairlearn) (1.26.4)\n",
      "Requirement already satisfied: pandas>=2.0.3 in /opt/anaconda3/lib/python3.12/site-packages (from fairlearn) (2.2.2)\n",
      "Requirement already satisfied: scikit-learn>=1.2.1 in /opt/anaconda3/lib/python3.12/site-packages (from fairlearn) (1.4.2)\n",
      "Requirement already satisfied: scipy>=1.9.3 in /opt/anaconda3/lib/python3.12/site-packages (from fairlearn) (1.13.1)\n",
      "Requirement already satisfied: python-dateutil>=2.8.2 in /opt/anaconda3/lib/python3.12/site-packages (from pandas>=2.0.3->fairlearn) (2.9.0.post0)\n",
      "Requirement already satisfied: pytz>=2020.1 in /opt/anaconda3/lib/python3.12/site-packages (from pandas>=2.0.3->fairlearn) (2024.1)\n",
      "Requirement already satisfied: tzdata>=2022.7 in /opt/anaconda3/lib/python3.12/site-packages (from pandas>=2.0.3->fairlearn) (2023.3)\n",
      "Requirement already satisfied: joblib>=1.2.0 in /opt/anaconda3/lib/python3.12/site-packages (from scikit-learn>=1.2.1->fairlearn) (1.4.2)\n",
      "Requirement already satisfied: threadpoolctl>=2.0.0 in /opt/anaconda3/lib/python3.12/site-packages (from scikit-learn>=1.2.1->fairlearn) (2.2.0)\n",
      "Requirement already satisfied: six>=1.5 in /opt/anaconda3/lib/python3.12/site-packages (from python-dateutil>=2.8.2->pandas>=2.0.3->fairlearn) (1.16.0)\n"
     ]
    }
   ],
   "source": [
    "!pip install fairlearn"
   ]
  },
  {
   "cell_type": "markdown",
   "metadata": {},
   "source": [
    "<h3><center> Fairlearn </center></h3>\n",
    "\n",
    "The exercise we will work on in this lab is based on the examples provided in the [Fairlearn documentation](https://fairlearn.org/v0.7.0/quickstart.html). Specifically, <span style=\"color:red\">this example is a slightly adapted version from this</span> [notebook](https://github.com/fairlearn/fairlearn/blob/main/notebooks/Binary%20Classification%20with%20the%20UCI%20Credit-card%20Default%20Dataset.ipynb). If you are interested in knowing more about the problem analyzed here, you can also check this [white paper](https://www.microsoft.com/en-us/research/uploads/prod/2020/09/Fairlearn-EY_WhitePaper-2020-09-22.pdf) (this is not necessary to complete the Lab, though, and note that the white paper uses a different dataset that cannot be released due to data privacy issues).\n",
    "\n",
    "1. First we will load and apply a typical classification algorithm to a [banking loan UCI dataset](https://archive.ics.uci.edu/ml/datasets/default+of+credit+card+clients). We will cover the application of Decision Trees.\n",
    "2. We will then use metrics implemented in *Fairlearn* to evaluate how fair is our baseline model.\n",
    "3. Finally, we will apply mitigation stragies to try to make our classifier less biased. This part is optional for Lab 5 — we will explore this further in the lectures of Week 6."
   ]
  },
  {
   "cell_type": "code",
   "execution_count": 2,
   "metadata": {},
   "outputs": [],
   "source": [
    "# General imports\n",
    "import numpy as np\n",
    "import pandas as pd\n",
    "import matplotlib.pyplot as plt\n",
    "\n",
    "# Data processing\n",
    "from sklearn.model_selection import train_test_split\n",
    "\n",
    "# Fairlearn algorithms and utils\n",
    "from fairlearn.postprocessing import ThresholdOptimizer, plot_threshold_optimizer\n",
    "from fairlearn.reductions import GridSearch, EqualizedOdds\n",
    "\n",
    "# Metrics\n",
    "from fairlearn.metrics import (\n",
    "    MetricFrame,\n",
    "    selection_rate, \n",
    "    demographic_parity_difference, \n",
    "    demographic_parity_ratio,\n",
    "    false_positive_rate, \n",
    "    false_negative_rate,\n",
    "    false_positive_rate_difference, \n",
    "    false_negative_rate_difference,\n",
    "    equalized_odds_difference)\n",
    "\n",
    "from sklearn.metrics import balanced_accuracy_score, roc_auc_score"
   ]
  },
  {
   "cell_type": "markdown",
   "metadata": {},
   "source": [
    "The Default of Credit Card Clients Taiwan Data Set dataset contains data on 30,000 clients and their credit card transactions at a bank in Taiwan. In addition to static client features (SEX, EDUCATION, MARRIAGE, AGE), the dataset contains the history of credit card bill payments between April and September 2005, as well as the balance limit of the client's credit card. The target is whether the client will default on a card payment in the following month, October 2005. A model trained on this data could be used, in part, to determine whether a client is eligible for another loan or a credit increase.\n",
    "\n",
    "Dataset columns / predictors:\n",
    "\n",
    "* `LIMIT_BAL`: credit card limit, i.e., amount of given credit; will be replaced by a synthetic feature\n",
    "* `SEX, EDUCATION, MARRIAGE, AGE`: client demographic features\n",
    "* `BILL_AMT[1-6]`: amount on bill statement for April-September\n",
    "* `PAY_AMT[1-6]`: payment amount for April-September\n",
    "* `default payment next month`: target, whether the client defaulted the following month (1 means default; 0 means no-default (good outcome))"
   ]
  },
  {
   "cell_type": "code",
   "execution_count": 3,
   "metadata": {},
   "outputs": [
    {
     "name": "stdout",
     "output_type": "stream",
     "text": [
      "Dataset features/predictors:  Index(['LIMIT_BAL', 'SEX', 'EDUCATION', 'MARRIAGE', 'AGE', 'PAY_1', 'PAY_2',\n",
      "       'PAY_3', 'PAY_4', 'PAY_5', 'PAY_6', 'BILL_AMT1', 'BILL_AMT2',\n",
      "       'BILL_AMT3', 'BILL_AMT4', 'BILL_AMT5', 'BILL_AMT6', 'PAY_AMT1',\n",
      "       'PAY_AMT2', 'PAY_AMT3', 'PAY_AMT4', 'PAY_AMT5', 'PAY_AMT6'],\n",
      "      dtype='object')\n",
      "Dataset response/output:  default payment next month\n"
     ]
    },
    {
     "data": {
      "text/html": [
       "<div>\n",
       "<style scoped>\n",
       "    .dataframe tbody tr th:only-of-type {\n",
       "        vertical-align: middle;\n",
       "    }\n",
       "\n",
       "    .dataframe tbody tr th {\n",
       "        vertical-align: top;\n",
       "    }\n",
       "\n",
       "    .dataframe thead th {\n",
       "        text-align: right;\n",
       "    }\n",
       "</style>\n",
       "<table border=\"1\" class=\"dataframe\">\n",
       "  <thead>\n",
       "    <tr style=\"text-align: right;\">\n",
       "      <th></th>\n",
       "      <th>LIMIT_BAL</th>\n",
       "      <th>SEX</th>\n",
       "      <th>EDUCATION</th>\n",
       "      <th>MARRIAGE</th>\n",
       "      <th>AGE</th>\n",
       "      <th>PAY_1</th>\n",
       "      <th>PAY_2</th>\n",
       "      <th>PAY_3</th>\n",
       "      <th>PAY_4</th>\n",
       "      <th>PAY_5</th>\n",
       "      <th>...</th>\n",
       "      <th>BILL_AMT4</th>\n",
       "      <th>BILL_AMT5</th>\n",
       "      <th>BILL_AMT6</th>\n",
       "      <th>PAY_AMT1</th>\n",
       "      <th>PAY_AMT2</th>\n",
       "      <th>PAY_AMT3</th>\n",
       "      <th>PAY_AMT4</th>\n",
       "      <th>PAY_AMT5</th>\n",
       "      <th>PAY_AMT6</th>\n",
       "      <th>default payment next month</th>\n",
       "    </tr>\n",
       "  </thead>\n",
       "  <tbody>\n",
       "    <tr>\n",
       "      <th>0</th>\n",
       "      <td>20000</td>\n",
       "      <td>2</td>\n",
       "      <td>2</td>\n",
       "      <td>1</td>\n",
       "      <td>24</td>\n",
       "      <td>2</td>\n",
       "      <td>2</td>\n",
       "      <td>-1</td>\n",
       "      <td>-1</td>\n",
       "      <td>-2</td>\n",
       "      <td>...</td>\n",
       "      <td>0</td>\n",
       "      <td>0</td>\n",
       "      <td>0</td>\n",
       "      <td>0</td>\n",
       "      <td>689</td>\n",
       "      <td>0</td>\n",
       "      <td>0</td>\n",
       "      <td>0</td>\n",
       "      <td>0</td>\n",
       "      <td>1</td>\n",
       "    </tr>\n",
       "    <tr>\n",
       "      <th>1</th>\n",
       "      <td>120000</td>\n",
       "      <td>2</td>\n",
       "      <td>2</td>\n",
       "      <td>2</td>\n",
       "      <td>26</td>\n",
       "      <td>-1</td>\n",
       "      <td>2</td>\n",
       "      <td>0</td>\n",
       "      <td>0</td>\n",
       "      <td>0</td>\n",
       "      <td>...</td>\n",
       "      <td>3272</td>\n",
       "      <td>3455</td>\n",
       "      <td>3261</td>\n",
       "      <td>0</td>\n",
       "      <td>1000</td>\n",
       "      <td>1000</td>\n",
       "      <td>1000</td>\n",
       "      <td>0</td>\n",
       "      <td>2000</td>\n",
       "      <td>1</td>\n",
       "    </tr>\n",
       "    <tr>\n",
       "      <th>2</th>\n",
       "      <td>90000</td>\n",
       "      <td>2</td>\n",
       "      <td>2</td>\n",
       "      <td>2</td>\n",
       "      <td>34</td>\n",
       "      <td>0</td>\n",
       "      <td>0</td>\n",
       "      <td>0</td>\n",
       "      <td>0</td>\n",
       "      <td>0</td>\n",
       "      <td>...</td>\n",
       "      <td>14331</td>\n",
       "      <td>14948</td>\n",
       "      <td>15549</td>\n",
       "      <td>1518</td>\n",
       "      <td>1500</td>\n",
       "      <td>1000</td>\n",
       "      <td>1000</td>\n",
       "      <td>1000</td>\n",
       "      <td>5000</td>\n",
       "      <td>0</td>\n",
       "    </tr>\n",
       "    <tr>\n",
       "      <th>3</th>\n",
       "      <td>50000</td>\n",
       "      <td>2</td>\n",
       "      <td>2</td>\n",
       "      <td>1</td>\n",
       "      <td>37</td>\n",
       "      <td>0</td>\n",
       "      <td>0</td>\n",
       "      <td>0</td>\n",
       "      <td>0</td>\n",
       "      <td>0</td>\n",
       "      <td>...</td>\n",
       "      <td>28314</td>\n",
       "      <td>28959</td>\n",
       "      <td>29547</td>\n",
       "      <td>2000</td>\n",
       "      <td>2019</td>\n",
       "      <td>1200</td>\n",
       "      <td>1100</td>\n",
       "      <td>1069</td>\n",
       "      <td>1000</td>\n",
       "      <td>0</td>\n",
       "    </tr>\n",
       "    <tr>\n",
       "      <th>4</th>\n",
       "      <td>50000</td>\n",
       "      <td>1</td>\n",
       "      <td>2</td>\n",
       "      <td>1</td>\n",
       "      <td>57</td>\n",
       "      <td>-1</td>\n",
       "      <td>0</td>\n",
       "      <td>-1</td>\n",
       "      <td>0</td>\n",
       "      <td>0</td>\n",
       "      <td>...</td>\n",
       "      <td>20940</td>\n",
       "      <td>19146</td>\n",
       "      <td>19131</td>\n",
       "      <td>2000</td>\n",
       "      <td>36681</td>\n",
       "      <td>10000</td>\n",
       "      <td>9000</td>\n",
       "      <td>689</td>\n",
       "      <td>679</td>\n",
       "      <td>0</td>\n",
       "    </tr>\n",
       "  </tbody>\n",
       "</table>\n",
       "<p>5 rows × 24 columns</p>\n",
       "</div>"
      ],
      "text/plain": [
       "   LIMIT_BAL  SEX  EDUCATION  MARRIAGE  AGE  PAY_1  PAY_2  PAY_3  PAY_4  \\\n",
       "0      20000    2          2         1   24      2      2     -1     -1   \n",
       "1     120000    2          2         2   26     -1      2      0      0   \n",
       "2      90000    2          2         2   34      0      0      0      0   \n",
       "3      50000    2          2         1   37      0      0      0      0   \n",
       "4      50000    1          2         1   57     -1      0     -1      0   \n",
       "\n",
       "   PAY_5  ...  BILL_AMT4  BILL_AMT5  BILL_AMT6  PAY_AMT1  PAY_AMT2  PAY_AMT3  \\\n",
       "0     -2  ...          0          0          0         0       689         0   \n",
       "1      0  ...       3272       3455       3261         0      1000      1000   \n",
       "2      0  ...      14331      14948      15549      1518      1500      1000   \n",
       "3      0  ...      28314      28959      29547      2000      2019      1200   \n",
       "4      0  ...      20940      19146      19131      2000     36681     10000   \n",
       "\n",
       "   PAY_AMT4  PAY_AMT5  PAY_AMT6  default payment next month  \n",
       "0         0         0         0                           1  \n",
       "1      1000         0      2000                           1  \n",
       "2      1000      1000      5000                           0  \n",
       "3      1100      1069      1000                           0  \n",
       "4      9000       689       679                           0  \n",
       "\n",
       "[5 rows x 24 columns]"
      ]
     },
     "execution_count": 3,
     "metadata": {},
     "output_type": "execute_result"
    }
   ],
   "source": [
    "# Load the data: UCI Default of credit card clients Data Set \n",
    "data_url = \"http://archive.ics.uci.edu/ml/machine-learning-databases/00350/default%20of%20credit%20card%20clients.xls\"\n",
    "\n",
    "# if you have any issues importing the online file through the link above, please import \n",
    "# the file \"default_of_credit_card_clients.xls\" you can find in Canvas, Modules > Week 5\n",
    "#dataset = pd.read_excel(\"default_of_credit_card_clients.xls\", header=1).drop(columns=['ID']).rename(columns={'PAY_0':'PAY_1'})\n",
    "\n",
    "dataset = pd.read_excel(io=data_url, header=1).drop(columns=['ID']).rename(columns={'PAY_0':'PAY_1'})\n",
    "print(\"Dataset features/predictors: \", dataset.columns[:-1])\n",
    "print(\"Dataset response/output: \", dataset.columns[-1])\n",
    "dataset.head()"
   ]
  },
  {
   "cell_type": "code",
   "execution_count": 6,
   "metadata": {},
   "outputs": [
    {
     "name": "stdout",
     "output_type": "stream",
     "text": [
      "Baseline group rates (threshold=0.5):\n",
      "         tpr       fpr\n",
      "0  0.570085  0.180395\n",
      "1  0.708267  0.291736\n",
      "Group TPRs at 0.5: {0: 0.5700846660395108, 1: 0.7082670906200318}\n",
      "\n",
      "Rates after equalizing TPR (raised to max):\n",
      "         tpr       fpr\n",
      "0  0.708373  0.293397\n",
      "1  0.708267  0.291736\n",
      "\n",
      "Rates after equalizing TPR (lowered to min):\n",
      "         tpr       fpr\n",
      "0  0.570085  0.180395\n",
      "1  0.569952  0.187603\n"
     ]
    },
    {
     "data": {
      "image/png": "[encoded data removed]",
      "text/plain": [
       "<Figure size 1500x400 with 3 Axes>"
      ]
     },
     "metadata": {},
     "output_type": "display_data"
    }
   ],
   "source": [
    "# Demo: Equalizing TPR across groups and observing effect on FPRs\n",
    "import numpy as np, pandas as pd, matplotlib.pyplot as plt\n",
    "from sklearn.model_selection import train_test_split\n",
    "from sklearn.linear_model import LogisticRegression\n",
    "from sklearn.metrics import confusion_matrix\n",
    "\n",
    "np.random.seed(0)\n",
    "\n",
    "# Try load real dataset (if local copy available), else create synthetic\n",
    "try:\n",
    "    import os\n",
    "    local_path = \"http://archive.ics.uci.edu/ml/machine-learning-databases/00350/default%20of%20credit%20card%20clients.xls\"\n",
    "    if os.path.exists(local_path):\n",
    "        dataset = pd.read_excel(local_path, header=1).drop(columns=['ID']).rename(columns={'PAY_0':'PAY_1'})\n",
    "        X = dataset.drop(columns=['SEX', 'default payment next month']).values\n",
    "        A = dataset['SEX'].values\n",
    "        y = dataset['default payment next month'].values\n",
    "    else:\n",
    "        raise FileNotFoundError\n",
    "except Exception:\n",
    "    # Synthetic dataset\n",
    "    n = 10000\n",
    "    A = np.random.binomial(1, 0.5, size=n)\n",
    "    X1 = np.random.normal(0, 1, size=n)\n",
    "    X2 = np.random.normal(0, 1, size=n) + 0.5 * A\n",
    "    X = np.vstack([X1, X2]).T\n",
    "    logits = -0.5 + 0.8 * X1 + 1.0 * X2\n",
    "    probs = 1 / (1 + np.exp(-logits))\n",
    "    y = (np.random.rand(n) < probs).astype(int)\n",
    "\n",
    "# Split, train\n",
    "X_train, X_test, y_train, y_test, A_train, A_test = train_test_split(X, y, A, test_size=0.5, random_state=1, stratify=A)\n",
    "clf = LogisticRegression(max_iter=1000)\n",
    "clf.fit(X_train, y_train)\n",
    "probs_test = clf.predict_proba(X_test)[:,1]\n",
    "\n",
    "# Helpers\n",
    "def group_rates(y_true, y_pred):\n",
    "    tn, fp, fn, tp = confusion_matrix(y_true, y_pred).ravel()\n",
    "    tpr = tp / (tp + fn) if (tp + fn) > 0 else 0.0\n",
    "    fpr = fp / (fp + tn) if (fp + tn) > 0 else 0.0\n",
    "    return tpr, fpr\n",
    "\n",
    "def rates_by_group(y_true, probs, A, threshold=0.5):\n",
    "    df = pd.DataFrame({\"y\": y_true, \"p\": probs, \"A\": A})\n",
    "    out = {}\n",
    "    for a, grp in df.groupby(\"A\"):\n",
    "        yhat = (grp[\"p\"] >= threshold).astype(int)\n",
    "        tpr, fpr = group_rates(grp[\"y\"], yhat)\n",
    "        out[a] = {\"tpr\": tpr, \"fpr\": fpr, \"count\": len(grp), \"threshold\": threshold}\n",
    "    return pd.DataFrame(out).T\n",
    "\n",
    "# Baseline at 0.5\n",
    "baseline = rates_by_group(y_test, probs_test, A_test, threshold=0.5)\n",
    "print(\"Baseline group rates (threshold=0.5):\\n\", baseline[['tpr','fpr']])\n",
    "\n",
    "# find per-group threshold that best matches a target TPR (closest)\n",
    "def threshold_for_target_tpr(y_true, probs, target_tpr):\n",
    "    df = pd.DataFrame({\"y\": y_true, \"p\": probs}).sort_values(\"p\", ascending=False)\n",
    "    thresholds = np.unique(df[\"p\"])\n",
    "    best_t, best_diff, best_tpr = thresholds[0], 1.0, 0.0\n",
    "    for t in thresholds:\n",
    "        yhat = (df[\"p\"] >= t).astype(int)\n",
    "        tp = ((yhat==1) & (df[\"y\"]==1)).sum()\n",
    "        fn = ((yhat==0) & (df[\"y\"]==1)).sum()\n",
    "        tpr = tp / (tp+fn) if (tp+fn)>0 else 0.0\n",
    "        diff = abs(tpr - target_tpr)\n",
    "        if diff < best_diff:\n",
    "            best_diff, best_t, best_tpr = diff, t, tpr\n",
    "    return best_t, best_tpr\n",
    "\n",
    "# target = max group TPR (raise the lower)\n",
    "group_info = pd.DataFrame({\"probs\": probs_test, \"y\": y_test, \"A\": A_test})\n",
    "group_tprs = {a: group_rates(grp[\"y\"], (grp[\"probs\"]>=0.5).astype(int))[0] for a, grp in group_info.groupby(\"A\")}\n",
    "print(\"Group TPRs at 0.5:\", group_tprs)\n",
    "target_tpr = max(group_tprs.values())\n",
    "\n",
    "thresholds = {}\n",
    "for a, grp in group_info.groupby(\"A\"):\n",
    "    t, achieved_tpr = threshold_for_target_tpr(grp[\"y\"], grp[\"probs\"], target_tpr)\n",
    "    thresholds[a] = t\n",
    "\n",
    "df = group_info.copy()\n",
    "df['yhat_adj'] = 0\n",
    "for a in df['A'].unique():\n",
    "    df.loc[df['A']==a, 'yhat_adj'] = (df.loc[df['A']==a, 'probs'] >= thresholds[a]).astype(int)\n",
    "\n",
    "rates_adj = {a: dict(zip(['tpr','fpr'], group_rates(grp['y'], grp['yhat_adj']))) \n",
    "             for a, grp in df.groupby('A')}\n",
    "print(\"\\nRates after equalizing TPR (raised to max):\\n\", pd.DataFrame(rates_adj).T)\n",
    "\n",
    "# alternative: equalize down to min\n",
    "target_tpr_min = min(group_tprs.values())\n",
    "thresholds_min = {}\n",
    "for a, grp in group_info.groupby(\"A\"):\n",
    "    t, achieved_tpr = threshold_for_target_tpr(grp[\"y\"], grp[\"probs\"], target_tpr_min)\n",
    "    thresholds_min[a] = t\n",
    "\n",
    "df2 = group_info.copy()\n",
    "df2['yhat_adj'] = 0\n",
    "for a in df2['A'].unique():\n",
    "    df2.loc[df2['A']==a, 'yhat_adj'] = (df2.loc[df2['A']==a, 'probs'] >= thresholds_min[a]).astype(int)\n",
    "\n",
    "rates_adj_min = {a: dict(zip(['tpr','fpr'], group_rates(grp['y'], grp['yhat_adj']))) \n",
    "                 for a, grp in df2.groupby('A')}\n",
    "print(\"\\nRates after equalizing TPR (lowered to min):\\n\", pd.DataFrame(rates_adj_min).T)\n",
    "\n",
    "# Plot summary (TPR vs FPR)\n",
    "baseline_vals = baseline[['tpr','fpr']].values\n",
    "adj_vals = pd.DataFrame(rates_adj).T[['tpr','fpr']].values\n",
    "adj_min_vals = pd.DataFrame(rates_adj_min).T[['tpr','fpr']].values\n",
    "\n",
    "fig, axes = plt.subplots(1,3, figsize=(15,4))\n",
    "axes[0].bar(['A=0 TPR','A=1 TPR'], baseline_vals[:,0], color=['C0','C1'], alpha=0.9)\n",
    "axes[0].bar(['A=0 FPR','A=1 FPR'], baseline_vals[:,1], color=['C0','C1'], alpha=0.3)\n",
    "axes[0].set_title(\"Baseline (threshold=0.5)\"); axes[0].set_ylim(0,1)\n",
    "\n",
    "axes[1].bar(['A=0 TPR','A=1 TPR'], adj_vals[:,0], color=['C0','C1'], alpha=0.9)\n",
    "axes[1].bar(['A=0 FPR','A=1 FPR'], adj_vals[:,1], color=['C0','C1'], alpha=0.3)\n",
    "axes[1].set_title(\"Equalize TPR to max (raise lower)\"); axes[1].set_ylim(0,1)\n",
    "\n",
    "axes[2].bar(['A=0 TPR','A=1 TPR'], adj_min_vals[:,0], color=['C0','C1'], alpha=0.9)\n",
    "axes[2].bar(['A=0 FPR','A=1 FPR'], adj_min_vals[:,1], color=['C0','C1'], alpha=0.3)\n",
    "axes[2].set_title(\"Equalize TPR to min (lower higher)\"); axes[2].set_ylim(0,1)\n",
    "# Add value annotations on each bar\n",
    "\n",
    "    \n",
    "\n",
    "for ax in axes:\n",
    "    ax.legend(['TPR (solid)','FPR (faded)'])\n",
    "    for p in ax.patches:\n",
    "        value = f\"{p.get_height():.4f}\"\n",
    "        ax.annotate(value,\n",
    "                    (p.get_x() + p.get_width() / 2., p.get_height()),\n",
    "                    ha='center', va='bottom',\n",
    "                    fontsize=9, color='black', rotation=0)\n",
    "\n",
    "    \n",
    "plt.tight_layout()\n",
    "plt.show()\n"
   ]
  },
  {
   "cell_type": "markdown",
   "metadata": {},
   "source": [
    "Equalizing TPR requires changing decision thresholds by group. To increase TPR for a group you lower that group’s threshold (label more individuals positive); to decrease TPR you raise the threshold (label fewer positive). \n",
    "\n",
    "Lowering the threshold increases both TP and FP, so when you raise a group’s TPR, you typically increase that group’s FPR as well. \n",
    "\n",
    "Conversely, lowering a group’s TPR will usually decrease that group’s FPR.\n",
    "\n",
    "You can’t equalize everything at once, this is the classic trade-off: making one type of error more equal across groups often shifts inequality into other types of error. In practice, choosing which metric to equalize depends on context (e.g., do you care more about denying good applicants (lower FP) or extending credit to actual defaulters (lower FN, higher TP))."
   ]
  },
  {
   "attachments": {
    "dda8579d-8493-4879-98b0-688a32216726.webp": {
     "image/webp": "[encoded data removed]"
    }
   },
   "cell_type": "markdown",
   "metadata": {},
   "source": [
    "![roc-curve.webp](attachment:dda8579d-8493-4879-98b0-688a32216726.webp)"
   ]
  },
  {
   "cell_type": "code",
   "execution_count": 14,
   "metadata": {},
   "outputs": [
    {
     "data": {
      "image/png": "[encoded data removed]",
      "text/plain": [
       "<Figure size 1500x500 with 3 Axes>"
      ]
     },
     "metadata": {},
     "output_type": "display_data"
    }
   ],
   "source": [
    "import matplotlib.pyplot as plt\n",
    "\n",
    "# Scenario A: Passes 80% rule but still unfair\n",
    "rates_A = {\"Male\": 0.60, \"Female\": 0.50}\n",
    "ratio_A = rates_A[\"Female\"] / rates_A[\"Male\"]\n",
    "\n",
    "# Scenario B: Fails 80% rule but not necessarily unfair\n",
    "rates_B = {\"Male\": 0.64, \"Female\": 0.30}\n",
    "ratio_B = rates_B[\"Female\"] / rates_B[\"Male\"]\n",
    "\n",
    "# Applicant pool distribution for Scenario B\n",
    "applicants_B = {\"Male\": 600, \"Female\": 200}   # example counts\n",
    "selected_B = {g: applicants_B[g] * rate for g, rate in rates_B.items()}\n",
    "\n",
    "# Prepare figure\n",
    "fig, axes = plt.subplots(1, 3, figsize=(15,5))\n",
    "fig.suptitle(\"Why the Four-Fifths (80%) Rule Can Mislead\", fontsize=14, weight=\"bold\")\n",
    "\n",
    "# --- Scenario A ---\n",
    "axes[0].bar(rates_A.keys(), rates_A.values(), color=[\"steelblue\", \"salmon\"])\n",
    "for i, (group, rate) in enumerate(rates_A.items()):\n",
    "    axes[0].text(i, rate+0.01, f\"{rate:.2f}\", ha=\"center\", fontsize=10)\n",
    "axes[0].set_title(f\"Scenario A\\nRatio={ratio_A:.2f} (Passes)\")\n",
    "axes[0].set_ylim(0, 0.7)\n",
    "axes[0].set_ylabel(\"Selection Rate\")\n",
    "\n",
    "# --- Scenario B selection rates ---\n",
    "axes[1].bar(rates_B.keys(), rates_B.values(), color=[\"steelblue\", \"salmon\"])\n",
    "for i, (group, rate) in enumerate(rates_B.items()):\n",
    "    axes[1].text(i, rate+0.01, f\"{rate:.2f}\", ha=\"center\", fontsize=10)\n",
    "axes[1].set_title(f\"Scenario B\\nRatio={ratio_B:.2f} (Fails)\")\n",
    "axes[1].set_ylim(0, 0.7)\n",
    "\n",
    "# --- Scenario B applicant pool ---\n",
    "bar_width = 0.35\n",
    "x = range(len(applicants_B))\n",
    "\n",
    "axes[2].bar([i - bar_width/2 for i in x], applicants_B.values(), \n",
    "            width=bar_width, label=\"Applicants\", color=\"lightgray\")\n",
    "axes[2].bar([i + bar_width/2 for i in x], selected_B.values(), \n",
    "            width=bar_width, label=\"Selected\", color=[\"steelblue\", \"salmon\"])\n",
    "for i, (group, count) in enumerate(applicants_B.items()):\n",
    "    axes[2].text(i - bar_width/2, count+10, str(count), ha=\"center\", fontsize=9)\n",
    "for i, (group, count) in enumerate(selected_B.items()):\n",
    "    axes[2].text(i + bar_width/2, count+2, str(int(count)), ha=\"center\", fontsize=9)\n",
    "axes[2].set_xticks(x)\n",
    "axes[2].set_xticklabels(applicants_B.keys())\n",
    "axes[2].set_title(\"Scenario B: Applicant Pool vs Selected\")\n",
    "axes[2].legend()\n",
    "\n",
    "plt.tight_layout()\n",
    "plt.show()\n"
   ]
  },
  {
   "cell_type": "markdown",
   "metadata": {},
   "source": [
    "Scenario A: Ratio > 0.8 (so it \"passes\"), but men have a systematically higher chance. Passing doesn’t mean “fair.” The rule does not see the absolute difference or individual-level fairness\n",
    "\n",
    "Scenario B: Ratio < 0.8 (so it \"fails\"), but both groups are treated by the model equally (the model just set a threshold as 90, which is equal to two groups), But since the average female score is lower (maybe because fewer women applied with high qualifications), the selection rate for women is lower. Not the model applying a lower threshold for women, the model is using the same threshold. Disparity comes from different applicant base sizes, not model bias. Men dominate the pool (600 vs 200 applicants). "
   ]
  },
  {
   "cell_type": "code",
   "execution_count": 13,
   "metadata": {},
   "outputs": [
    {
     "name": "stdout",
     "output_type": "stream",
     "text": [
      "Male selection rate: 0.6366666666666667\n",
      "Female selection rate: 0.295\n"
     ]
    }
   ],
   "source": [
    "\n",
    "\n",
    "np.random.seed(0)\n",
    "\n",
    "# Male applicants: 600, average score 92, std 5\n",
    "male_scores = np.random.normal(loc=92, scale=5, size=600)\n",
    "\n",
    "# Female applicants: 200, average score 88, std 5\n",
    "female_scores = np.random.normal(loc=88, scale=5, size=200)\n",
    "\n",
    "# Selection threshold\n",
    "threshold = 90\n",
    "\n",
    "selected_males = male_scores[male_scores >= threshold]\n",
    "selected_females = female_scores[female_scores >= threshold]\n",
    "\n",
    "print(\"Male selection rate:\", len(selected_males)/len(male_scores))\n",
    "print(\"Female selection rate:\", len(selected_females)/len(female_scores))\n"
   ]
  },
  {
   "cell_type": "markdown",
   "metadata": {},
   "source": [
    "### Introduce a Synthetic Feature\n",
    "\n",
    "We are now going to manipulate the balance-limit feature `LIMIT_BAL` to make it highly predictive for the \"female\" group but not for the \"male\" group. Specifically, we set this up, so that a lower credit limit indicates that a female client is less likely to default, but provides no information on a male client's probability of default. This might happen in reality if one of the groups has higher sources of income, such that the credit limit does not need to be exhausted or other sources of income allow to pay larger credit amounts. We're selecting gender as the protected attribute and \"credit limit\" as the feature that is predictive only for one of the groups, but the analysis could be generalized to other protected group definitions and predictive features.\n",
    "\n",
    "After the transformation, `LIMIT_BAL` will be an arbitrary feature that, for one group (female), is associated with default. It is uninformative for the male clients.\n",
    "\n",
    "Note that we are not implying that one of the groups is more likely to default than the other, as the Figures and metrics below will reveal. We simply assume that one group has a feature that is highly predictive.  "
   ]
  },
  {
   "cell_type": "code",
   "execution_count": null,
   "metadata": {},
   "outputs": [],
   "source": [
    "# Extract the sensitive feature\n",
    "A = dataset[\"SEX\"]\n",
    "A_str = A.map({ 2:\"female\", 1:\"male\"})\n",
    "\n",
    "# Extract the target\n",
    "Y = dataset[\"default payment next month\"]\n",
    "\n",
    "categorical_features = ['EDUCATION', 'MARRIAGE', 'PAY_1', 'PAY_2', 'PAY_3', 'PAY_4', 'PAY_5', 'PAY_6']\n",
    "for col in categorical_features:\n",
    "    dataset[col] = dataset[col].astype('category')"
   ]
  },
  {
   "cell_type": "code",
   "execution_count": null,
   "metadata": {},
   "outputs": [],
   "source": [
    "# dist_scale (standard deviation in a normal distribution) controls the extent to which \n",
    "# 'LIMIT_BAL' will correlated with Y, for the female group\n",
    "\n",
    "# lower values of dist_scale imply a stronger correlation\n",
    "dist_scale = 0.5\n",
    "np.random.seed(12345)\n",
    "\n",
    "# Make 'LIMIT_BAL' informative of the target (i.e., apply to all groups)\n",
    "dataset['LIMIT_BAL'] = Y + np.random.normal(scale=dist_scale, size=dataset.shape[0])\n",
    "\n",
    "# But then make it uninformative for the male clients\n",
    "dataset.loc[A==1, 'LIMIT_BAL'] = np.random.normal(scale=dist_scale, size=dataset[A==1].shape[0])"
   ]
  },
  {
   "cell_type": "markdown",
   "metadata": {},
   "source": [
    "In the following plots we will visualize the distribution of feature 'LIMIT_BAL' in the four populations (Male-Default, Male-Non-Default, Female-Default and Female-Non-Default). "
   ]
  },
  {
   "cell_type": "code",
   "execution_count": null,
   "metadata": {},
   "outputs": [],
   "source": [
    "fig, (ax1, ax2) = plt.subplots(ncols=2, figsize=(10, 4), sharey=True)\n",
    "\n",
    "\n",
    "# Plot distribution of LIMIT_BAL for men that default (orange, full line) and those that do not (blue, dashed)\n",
    "dataset['LIMIT_BAL'][(A==1) & (Y==0)].plot(kind='kde', label=\"Payment on time\", ax=ax1, \n",
    "                                           title=\"LIMIT_BAL distribution for \\\"male\\\" group\", style='r-')\n",
    "\n",
    "dataset['LIMIT_BAL'][(A==1) & (Y==1)].plot(kind='kde', label=\"Default\", ax=ax1, style='b--')\n",
    "\n",
    "\n",
    "# Plot distribution of LIMIT_BAL for women that default (orange, full line) and those that do not (blue, dashed)\n",
    "dataset['LIMIT_BAL'][(A==2) & (Y==0)].plot(kind='kde', label=\"Payment on time\", ax=ax2, \n",
    "                                           legend=True, title=\"LIMIT_BAL distribution for \\\"female\\\" group\", style='r-')\n",
    "\n",
    "dataset['LIMIT_BAL'][(A==2) & (Y==1)].plot(kind='kde', label=\"Default\", ax=ax2, \n",
    "                                           legend=True, style='b--').legend(bbox_to_anchor=(-1.3, 1))\n",
    "\n",
    "plt.show()"
   ]
  },
  {
   "cell_type": "markdown",
   "metadata": {},
   "source": [
    "**Q1: Lets refresh your Pandas indexing skills: can you calculate the fraction of male and female customers that default? Which group has a higher probability of default?**"
   ]
  },
  {
   "cell_type": "code",
   "execution_count": null,
   "metadata": {},
   "outputs": [],
   "source": []
  },
  {
   "cell_type": "markdown",
   "metadata": {},
   "source": [
    "**Q2: Can you understand why the new `LIMIT_BAL` feature is indeed highly predictive for the \"female\" group, but not for the \"male\" group? Does that imply that one of the groups is more likely to default? Observe the figures above to inspire your questions**"
   ]
  },
  {
   "cell_type": "code",
   "execution_count": null,
   "metadata": {},
   "outputs": [],
   "source": []
  },
  {
   "cell_type": "markdown",
   "metadata": {},
   "source": [
    "Now we will apply the Scikit-learn Estimator API, as we discussed in previous Labs (see Lab 3), to fit a Decision Tree that learns to classify individuals into classes Default and Non-Default. \n",
    "\n",
    "To review materials related with Decision Trees plase check Lecture 7 slides, Chapter 8.1 of the [ISLR book](https://www.statlearning.com) and Chapter *In-Depth: Decision Trees and Random Forests* of the [PDSH book](https://jakevdp.github.io/PythonDataScienceHandbook/05.08-random-forests.html). "
   ]
  },
  {
   "cell_type": "markdown",
   "metadata": {},
   "source": [
    "**Q3: Can you complete, below, the missing line to use a Decision Tree with maximum depth of 2?**"
   ]
  },
  {
   "cell_type": "code",
   "execution_count": null,
   "metadata": {},
   "outputs": [],
   "source": [
    "# 1. Import model\n",
    "\n",
    "from sklearn.tree import DecisionTreeClassifier\n",
    "\n",
    "# 2. Choose model hyperparameters\n",
    "\n",
    "# MISSING LINE,\n",
    "# model = (...)\n",
    "\n",
    "# 3. Arrange data into a fetures matrix and target vector; split data in train and test set\n",
    "# As we are not tuning hyperparameters, for now it suffices to slit data in train and test (and skip validate)\n",
    "\n",
    "df_train, df_test, Y_train, Y_test, A_train, A_test, A_str_train, A_str_test = train_test_split(\n",
    "    dataset.drop(columns=['SEX', 'default payment next month']), \n",
    "    Y, \n",
    "    A, \n",
    "    A_str,\n",
    "    test_size = 0.3, \n",
    "    random_state=12345,\n",
    "    stratify=Y)\n",
    "\n",
    "# 4. Fit model to data\n",
    "decision_tree = model.fit(df_train, Y_train)\n",
    "df_train"
   ]
  },
  {
   "cell_type": "code",
   "execution_count": null,
   "metadata": {},
   "outputs": [],
   "source": [
    "from sklearn.tree import plot_tree\n",
    "\n",
    "print(dataset.drop(columns=['SEX', 'default payment next month']).columns)\n",
    "\n",
    "plt.figure(figsize=(12,12))\n",
    "plot_tree(decision_tree, filled=True, feature_names=dataset.drop(columns=['SEX', 'default payment next month']).columns)\n",
    "plt.show()"
   ]
  },
  {
   "cell_type": "markdown",
   "metadata": {},
   "source": [
    "**Q4: What is the meaning of *gini*, *samples* and *value* in the plot above?**"
   ]
  },
  {
   "cell_type": "code",
   "execution_count": null,
   "metadata": {},
   "outputs": [],
   "source": []
  },
  {
   "cell_type": "markdown",
   "metadata": {},
   "source": [
    "We notice that the synthetic feature `LIMIT_BAL` appears as the most important feature in this model although it has no predictive power for an entire demographic segment in the data. We can observe this by plotting the Decision Tree we trained. Notice `LIMIT_BAL`  in the root of our tree. \n",
    "\n",
    "Below we use the trained Decision Tree to classify the test set (df_test). \n",
    "This is used to computer the accuracy of the model"
   ]
  },
  {
   "cell_type": "code",
   "execution_count": null,
   "metadata": {},
   "outputs": [],
   "source": [
    "from sklearn.metrics import confusion_matrix, ConfusionMatrixDisplay\n",
    "\n",
    "# 5. Predict labels for unknown data and evaluate\n",
    "y_pred = model.predict(df_test)\n",
    "\n",
    "cm = confusion_matrix(Y_test, y_pred, labels=model.classes_)\n",
    "disp = ConfusionMatrixDisplay(confusion_matrix=cm,display_labels=model.classes_)\n",
    "disp.plot()\n",
    "plt.show()"
   ]
  },
  {
   "cell_type": "markdown",
   "metadata": {},
   "source": [
    "**Q5: Compute the Sensitivity (or True Positive Rate), Specificity (or True Negative Rate), False Positive Rate, False Negative Rate and Precision for the previous confusion matrix.**\n",
    "\n",
    "*Tip: Note that (1-Specificity) is also known as the False Positive Rate and (1-Sensitivity) the False Negative Rate.*\n",
    "\n",
    "*Note: Being able to computer these metrics is highy relevant in the context of Quiz 3*"
   ]
  },
  {
   "cell_type": "code",
   "execution_count": null,
   "metadata": {},
   "outputs": [],
   "source": []
  },
  {
   "cell_type": "code",
   "execution_count": null,
   "metadata": {},
   "outputs": [],
   "source": [
    "# Scores on test set\n",
    "test_scores = model.predict_proba(df_test)[:, 1]\n",
    "\n",
    "# Predictions (0 or 1) on test set\n",
    "test_preds = (test_scores >= np.mean(Y_train)) * 1\n",
    "\n",
    "# Train AUC\n",
    "roc_auc_score(Y_train, model.predict_proba(df_train)[:, 1])"
   ]
  },
  {
   "cell_type": "markdown",
   "metadata": {},
   "source": [
    "**Q6: What is the meaning of the value AUC above?**"
   ]
  },
  {
   "cell_type": "code",
   "execution_count": null,
   "metadata": {},
   "outputs": [],
   "source": []
  },
  {
   "cell_type": "markdown",
   "metadata": {},
   "source": [
    "Above, we computed Sensitivity (True Positive Rate) and Specificity (True Negative Rate) for the whole dataset, without distinguishing protected groups.\n",
    "\n",
    "We next use Fairlearn's `MetricFrame` to examine the the two different kinds of errors (False Positive Rate and False Negative Rate) for different groups.\n",
    "\n",
    "With `MetricFrame` (see [here](https://fairlearn.org/v0.5.0/api_reference/fairlearn.metrics.html) more details) we can easily compute the previous metrics independently for the two groups. That can be specified with option *sensitive_features*. Recall that <code>A_str_test</code> has info on who belongs to each group.\n",
    "\n",
    "Note that both kinds of errors are more common in the \"male\" group than in the \"female\" group.\n",
    "\n",
    "Note the difference in False Negative Rate we are obtaining for the two groups."
   ]
  },
  {
   "cell_type": "code",
   "execution_count": null,
   "metadata": {},
   "outputs": [],
   "source": [
    "mf = MetricFrame(metrics={\n",
    "    'FPR': false_positive_rate,\n",
    "    'FNR': false_negative_rate},\n",
    "    y_true=Y_test, y_pred=y_pred, sensitive_features=A_str_test)\n",
    "\n",
    "mf.by_group"
   ]
  },
  {
   "cell_type": "markdown",
   "metadata": {},
   "source": [
    "**Q7: Lets reflect on those values: we are classifying datapoints in Default (Positive) or Non-default (negative). The bank is likely to offer credit to individuals that are antecipated not to default (Negative). What does it mean that the female group has a lower FNR than the male group?**"
   ]
  },
  {
   "cell_type": "code",
   "execution_count": null,
   "metadata": {},
   "outputs": [],
   "source": []
  },
  {
   "cell_type": "markdown",
   "metadata": {},
   "source": [
    "**Q8: Can you say anything about Demographic Parity given the table above? What can you say about Equalized Odds?**"
   ]
  },
  {
   "cell_type": "code",
   "execution_count": null,
   "metadata": {},
   "outputs": [],
   "source": []
  },
  {
   "cell_type": "code",
   "execution_count": null,
   "metadata": {},
   "outputs": [],
   "source": [
    "mf = MetricFrame(metrics={\n",
    "    'Negative Rate (No Default)': selection_rate},\n",
    "    y_true=Y_test, y_pred=y_pred, sensitive_features=A_str_test)\n",
    "\n",
    "mf.by_group"
   ]
  },
  {
   "cell_type": "markdown",
   "metadata": {},
   "source": [
    "**Q9: Can you say anything about Demographic Parity given the table above? What can you say about Equalized Odds?**"
   ]
  },
  {
   "cell_type": "code",
   "execution_count": null,
   "metadata": {},
   "outputs": [],
   "source": []
  },
  {
   "cell_type": "markdown",
   "metadata": {},
   "source": [
    "We now calculate several performance and fairness metrics below:"
   ]
  },
  {
   "cell_type": "code",
   "execution_count": null,
   "metadata": {},
   "outputs": [],
   "source": [
    "metrics_dict = {\n",
    "        \"Overall selection rate\":  selection_rate(Y_test, y_pred, pos_label=0),\n",
    "        \"Demographic parity difference\": demographic_parity_difference(Y_test, y_pred, sensitive_features=A_str_test),\n",
    "        \"Demographic parity ratio\": demographic_parity_ratio(Y_test, y_pred, sensitive_features=A_str_test),\n",
    "        \"------\": \"\",\n",
    "        \"False positive rate difference\": false_positive_rate_difference(Y_test, y_pred, sensitive_features=A_str_test),\n",
    "        \"False negative rate difference\": false_negative_rate_difference(Y_test, y_pred, sensitive_features=A_str_test),\n",
    "        \"Equalized odds difference\": equalized_odds_difference(Y_test, y_pred, sensitive_features=A_str_test),\n",
    "         \"-------\": \"\",\n",
    "        \"Overall AUC\": roc_auc_score(Y_test, y_pred),\n",
    "        \"AUC difference\": MetricFrame(metrics=roc_auc_score, y_true=Y_test, y_pred=y_pred, sensitive_features=A_str_test).difference(method='between_groups'),\n",
    "    }\n",
    "\n",
    "pd.DataFrame.from_dict(metrics_dict, orient=\"index\", columns=[\"Metrics\"])"
   ]
  },
  {
   "cell_type": "markdown",
   "metadata": {},
   "source": [
    "As the overall performance metric we use the _area under ROC curve_ (AUC), which is suited to classification problems with a large imbalance between positive and negative examples.\n",
    "\n",
    "As the fairness metric we use *equalized odds difference*, which quantifies the disparity in accuracy experienced by different demographics. Our goal is to assure that neither of the two groups (\"male\" vs \"female\") has substantially larger false-positive rates or false-negative rates than the other group. \n",
    "\n",
    "The table above shows the overall AUC of 0.75. There is a large disparity in we consider the equalized-odds difference."
   ]
  },
  {
   "cell_type": "markdown",
   "metadata": {},
   "source": [
    "**Q10: Why is the *equalized odds difference* the same as the *False negative rate difference*? Check the [Fairlearn documentation](https://fairlearn.org/v0.4.6/api_reference/fairlearn.metrics.html) to find an answer**"
   ]
  },
  {
   "cell_type": "code",
   "execution_count": null,
   "metadata": {},
   "outputs": [],
   "source": []
  },
  {
   "cell_type": "markdown",
   "metadata": {},
   "source": [
    "**Q11: Does the classifier satisfy Demographic Parity? Why? What would be necessary for a classifier to satisfy Demographic Parity?**"
   ]
  },
  {
   "cell_type": "code",
   "execution_count": null,
   "metadata": {},
   "outputs": [],
   "source": []
  },
  {
   "cell_type": "markdown",
   "metadata": {},
   "source": [
    "## Optional Material (Fairness)\n",
    "\n",
    "Note: We are going to learn about methods to attenuate bias in supervised learning in Week 6 (Lecture 11). The example below will become clear after that lecture. No need to advance to this example in Lab 5 -- do it if you have spare time and are curious about how to tackle the biases identified above\n",
    "\n",
    "\n",
    "## Mitigating Equalized Odds Difference with Postprocessing\n",
    "\n",
    "We will now attempt to mitigate the disparities in our model using the Fairlearn postprocessing algorithm `ThresholdOptimizer`.\n",
    "\n",
    "In Lecture 7 we discussed the idea that, depending on the problem we are facing, we can have different classification thresholds. The toy example provided was a poisonous mushroom classifier that classifies images in Positive (Poisonous) and Negative (Non-poisonous). We might want to play on the safe side and classify a mushroom as Positive if the probability of attributing class Poisonous is lower than 0.5.\n",
    "\n",
    "We will now use the same idea (apply different classification threhsold) to correct the bias in our dataset.\n",
    "\n",
    "This algorithm `ThresholdOptimizer` finds a suitable threshold for the scores (class probabilities) by optimizing the accuracy rate under the constraint that the equalized odds difference (on training data) is zero."
   ]
  },
  {
   "cell_type": "code",
   "execution_count": null,
   "metadata": {},
   "outputs": [],
   "source": [
    "postprocess_est = ThresholdOptimizer(\n",
    "    estimator=model,\n",
    "    constraints=\"equalized_odds\",\n",
    "    prefit=True,\n",
    "    predict_method='predict')"
   ]
  },
  {
   "cell_type": "code",
   "execution_count": null,
   "metadata": {},
   "outputs": [],
   "source": [
    "postprocess_est.fit(df_train, Y_train, sensitive_features=A_train)"
   ]
  },
  {
   "cell_type": "code",
   "execution_count": null,
   "metadata": {},
   "outputs": [],
   "source": [
    "postprocess_preds = postprocess_est.predict(df_test, sensitive_features=A_test)"
   ]
  },
  {
   "cell_type": "code",
   "execution_count": null,
   "metadata": {},
   "outputs": [],
   "source": [
    "metrics_dict = {\n",
    "        \"Overall selection rate\":  selection_rate(Y_test, postprocess_preds, pos_label=0),\n",
    "        \"Demographic parity difference\": demographic_parity_difference(Y_test, postprocess_preds, sensitive_features=A_str_test),\n",
    "        \"Demographic parity ratio\": demographic_parity_ratio(Y_test, postprocess_preds, sensitive_features=A_str_test),\n",
    "        \"------\": \"\",\n",
    "        \"False positive rate difference\": false_positive_rate_difference(Y_test, postprocess_preds, sensitive_features=A_str_test),\n",
    "        \"False negative rate difference\": false_negative_rate_difference(Y_test, postprocess_preds, sensitive_features=A_str_test),\n",
    "        \"Equalized odds difference\": equalized_odds_difference(Y_test, postprocess_preds, sensitive_features=A_str_test),\n",
    "         \"-------\": \"\",\n",
    "        \"Overall AUC\": roc_auc_score(Y_test, postprocess_preds),\n",
    "        \"AUC difference\": MetricFrame(metrics=roc_auc_score, y_true=Y_test, y_pred=postprocess_preds, sensitive_features=A_str_test).difference(method='between_groups'),\n",
    "    }\n",
    "\n",
    "pd.DataFrame.from_dict(metrics_dict, orient=\"index\", columns=[\"Metrics\"])"
   ]
  },
  {
   "cell_type": "markdown",
   "metadata": {},
   "source": [
    "The ThresholdOptimizer algorithm significantly reduces the disparity according to multiple metrics. However, the performance metrics (balanced error rate as well as AUC) get worse. Before deploying such a model in practice, it would be important to examine in more detail why we observe such a sharp trade-off."
   ]
  },
  {
   "cell_type": "markdown",
   "metadata": {},
   "source": [
    "We explored how the `ThresholdOptimizer` greatly reduced the disparity in performance across multiple fairness metrics. However the overall error rate and AUC for the `ThresholdOptimizer` model were worse compared to the fairness-unaware model. "
   ]
  }
 ],
 "metadata": {
  "kernelspec": {
   "display_name": "Python 3 (ipykernel)",
   "language": "python",
   "name": "python3"
  },
  "language_info": {
   "codemirror_mode": {
    "name": "ipython",
    "version": 3
   },
   "file_extension": ".py",
   "mimetype": "text/x-python",
   "name": "python",
   "nbconvert_exporter": "python",
   "pygments_lexer": "ipython3",
   "version": "3.12.4"
  }
 },
 "nbformat": 4,
 "nbformat_minor": 4
}
